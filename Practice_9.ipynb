{
 "cells": [
  {
   "cell_type": "markdown",
   "id": "54ba3443",
   "metadata": {},
   "source": [
    "<h3 align='center'>Сортуй як хочеш</h3>"
   ]
  },
  {
   "cell_type": "markdown",
   "id": "196517f9",
   "metadata": {},
   "source": [
    "Список спортсменів містить відомості про спортсменів у вигляді кортежів: (ім'я, вік, зростання, вага).\n",
    "\n",
    "Напишіть програму сортування списку спортсменів за вказаним полем:"
   ]
  },
  {
   "cell_type": "markdown",
   "id": "19dd95e0",
   "metadata": {},
   "source": [
    "<li>1: за іменем;\n",
    "<li>2: за віком;\n",
    "<li>3: зростанням;\n",
    "<li>4: за вагою."
   ]
  },
  {
   "cell_type": "markdown",
   "id": "4b0f06e3",
   "metadata": {},
   "source": [
    "<b>Формат вхідних даних</b><br>\n",
    "На вхід до програми подається натуральне число від 11 до 44 – номер поля за яким потрібно відсортувати список.\n",
    "\n",
    "<b>Формат вихідних даних</b><br>\n",
    "Програма має вивести відсортований за заданим полем список відповідно до прикладів.\n",
    "\n",
    "<b>Примітка</b>. Розв'яжіть завдання без використання умовного оператора."
   ]
  },
  {
   "cell_type": "markdown",
   "id": "728afaf8",
   "metadata": {},
   "source": [
    "<b>Sample Input 1:</b><br>\n",
    "3<br>\n",
    "\n",
    "<b>Sample Output 1:</b><br>\n",
    "Рустам 10 128 30<br>\n",
    "Дима 10 130 35<br>\n",
    "Тимур 11 135 39<br>\n",
    "Руслан 9 140 33<br>\n",
    "Матвей 17 168 68<br>\n",
    "Амир 16 170 70<br>\n",
    "Рома 16 188 100<br>\n",
    "Петя 15 190 90<br>\n",
    "<br><br>\n",
    "<b>Sample Input 2:</b><br>\n",
    "2<br>\n",
    "\n",
    "<b>Sample Output 2:</b><br>\n",
    "Руслан 9 140 33<br>\n",
    "Дима 10 130 35<br>\n",
    "Рустам 10 128 30<br>\n",
    "Тимур 11 135 39<br>\n",
    "Петя 15 190 90<br>\n",
    "Амир 16 170 70<br>\n",
    "Рома 16 188 100<br>\n",
    "Матвей 17 168 68<br>"
   ]
  },
  {
   "cell_type": "markdown",
   "id": "d9bd8ddd",
   "metadata": {},
   "source": [
    "<h3 align='center'>Код програми</h3>"
   ]
  },
  {
   "cell_type": "code",
   "execution_count": 2,
   "id": "81dc2b4a",
   "metadata": {},
   "outputs": [
    {
     "name": "stdout",
     "output_type": "stream",
     "text": [
      "3\n",
      "Рустам 10 128 30\n",
      "Діма 10 130 35\n",
      "Тимур 11 135 39\n",
      "Руслан 9 140 33\n",
      "Матвій 17 168 68\n",
      "Амір 16 170 70\n",
      "Рома 16 188 100\n",
      "Петя 15 190 90\n"
     ]
    }
   ],
   "source": [
    "athletes = [('Діма', 10, 130, 35), ('Тимур', 11, 135, 39), ('Руслан', 9, 140, 33), \n",
    "            ('Рустам', 10, 128, 30) , ('Амір', 16, 170, 70), ('Рома', 16, 188, 100), \n",
    "            ('Матвій', 17, 168, 68), ('Петя', 15, 190, 90)]\n",
    "\n",
    "def sport1(n):\n",
    "     return n[0]\n",
    "def sport2(n):\n",
    "     return n[1]\n",
    "def sport3(n):\n",
    "     return n[2]\n",
    "def sport4(n):\n",
    "     return n[3]\n",
    "list = [sport1, sport2, sport3, sport4]\n",
    "athletes.sort(key=list[int(input())-1])\n",
    "for i in athletes:\n",
    "     print(*i)"
   ]
  }
 ],
 "metadata": {
  "kernelspec": {
   "display_name": "Python 3 (ipykernel)",
   "language": "python",
   "name": "python3"
  },
  "language_info": {
   "codemirror_mode": {
    "name": "ipython",
    "version": 3
   },
   "file_extension": ".py",
   "mimetype": "text/x-python",
   "name": "python",
   "nbconvert_exporter": "python",
   "pygments_lexer": "ipython3",
   "version": "3.10.4"
  }
 },
 "nbformat": 4,
 "nbformat_minor": 5
}
