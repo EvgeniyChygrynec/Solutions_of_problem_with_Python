{
 "cells": [
  {
   "cell_type": "markdown",
   "id": "4ea03937",
   "metadata": {},
   "source": [
    "<h3 align='center'> Діагоналі паралельні головній </h3>"
   ]
  },
  {
   "cell_type": "markdown",
   "id": "0396b427",
   "metadata": {},
   "source": [
    "На вхід в програму подається натуральне число nn. Напишіть програму, яка створює матрицю розміром n × n і виконує її за наступним правилом:\n",
    "\n",
    "   <ul>\n",
    "<li>на головній діагоналі на місці кожного елемента повинно стояти число 00;</li>\n",
    "<li>на двох діагоналях, прилегающих до головної, число 11;</li>\n",
    "<li>на наступних двох діагоналях число 22, і т.д.</li>\n",
    "    </ul>"
   ]
  },
  {
   "cell_type": "markdown",
   "id": "89a7a046",
   "metadata": {},
   "source": [
    "<b>Формат вхідних даних</b><br>\n",
    "На вході в програму видається натуральне число nn — кількість рядків і столбців у матриці."
   ]
  },
  {
   "cell_type": "markdown",
   "id": "3e6f4b53",
   "metadata": {},
   "source": [
    "<b>Формат вихідних даних</b><br>\n",
    "Програма повинна вивести матрицю відповідно до умов завдання."
   ]
  },
  {
   "cell_type": "markdown",
   "id": "312b094a",
   "metadata": {},
   "source": [
    "<b>Sample Input 1:</b><br>\n",
    "    5\n",
    "\n",
    "<b>Sample Output 1:</b><br>\n",
    "    0 1 2 3 4<br>\n",
    "    1 0 1 2 3<br>\n",
    "    2 1 0 1 2<br>\n",
    "    3 2 1 0 1<br>\n",
    "    4 3 2 1 0<br><br>\n",
    "\n",
    "<b>Sample Input 2:</b><br>\n",
    "2\n",
    "\n",
    "<b>Sample Output 2:</b><br>\n",
    "0 1<br>\n",
    "1 0<br><br>\n",
    "\n",
    "<b>Sample Input 3:</b><br>\n",
    "3\n",
    "\n",
    "<b>Sample Output 3:</b><br>\n",
    "0 1 2<br>\n",
    "1 0 1<br>\n",
    "2 1 0\n"
   ]
  },
  {
   "cell_type": "markdown",
   "id": "b0d3dd68",
   "metadata": {},
   "source": [
    "<h3 align='center'> Код програми </h3>"
   ]
  },
  {
   "cell_type": "code",
   "execution_count": 3,
   "id": "143624b6",
   "metadata": {},
   "outputs": [
    {
     "name": "stdout",
     "output_type": "stream",
     "text": [
      "5\n",
      "0 1 2 3 4\n",
      "1 0 1 2 3\n",
      "2 1 0 1 2\n",
      "3 2 1 0 1\n",
      "4 3 2 1 0\n"
     ]
    }
   ],
   "source": [
    "n = int(input())\n",
    "mx = [[0 for _ in range(n)] for _ in range(n)]\n",
    "for k in range(n):\n",
    "    for i in range(n):\n",
    "        for j in range(n):\n",
    "            if k == abs(i-j):\n",
    "                mx[i][j] = k\n",
    "\n",
    "\n",
    "for i in mx:\n",
    "    print(*i)          "
   ]
  }
 ],
 "metadata": {
  "kernelspec": {
   "display_name": "Python 3 (ipykernel)",
   "language": "python",
   "name": "python3"
  },
  "language_info": {
   "codemirror_mode": {
    "name": "ipython",
    "version": 3
   },
   "file_extension": ".py",
   "mimetype": "text/x-python",
   "name": "python",
   "nbconvert_exporter": "python",
   "pygments_lexer": "ipython3",
   "version": "3.10.4"
  }
 },
 "nbformat": 4,
 "nbformat_minor": 5
}
