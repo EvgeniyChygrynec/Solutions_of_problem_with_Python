{
 "cells": [
  {
   "cell_type": "markdown",
   "id": "b7a9d17e",
   "metadata": {},
   "source": [
    "<h3 align='center'>Аве, Цезар 🌶️</h3>"
   ]
  },
  {
   "cell_type": "markdown",
   "id": "df6b5ed3",
   "metadata": {},
   "source": [
    "На вхід до програми подається рядок тексту англійською мовою, в якому потрібно зашифрувати всі слова. Кожне слово рядка слід зашифрувати за допомогою шифру Цезаря (циклічного зсуву на довжину цього слова). Рядкові літери при цьому залишаються малими, а великі - великими.\n",
    "\n",
    "<b>Формат вхідних даних</b><br>\n",
    "На вхід до програми подається рядок тексту англійською мовою.\n",
    "\n",
    "<b>Формат вихідних даних</b><br>\n",
    "Програма має вивести зашифрований текст відповідно до умови завдання.\n",
    "\n",
    "<b>Примітка.</b> Символи, які не є англійськими літерами, не змінюються.\n",
    "\n"
   ]
  },
  {
   "cell_type": "markdown",
   "id": "b45319d6",
   "metadata": {},
   "source": [
    "\n",
    "\n",
    "<b>Sample Input 1:</b><br>\n",
    "Day, mice. \"Year\" is a mistake!<br>\n",
    "\n",
    "<b>Sample Output 1:</b><br>\n",
    "Gdb, qmgi. \"Ciev\" ku b tpzahrl!<br>\n",
    "\n",
    "<br>\n",
    "\n",
    "<b>Sample Input 2:</b><br>\n",
    "my name is Python!\n",
    "\n",
    "<b>Sample Output 2:</b><br>\n",
    "oa reqi ku Veznut!\n"
   ]
  },
  {
   "cell_type": "code",
   "execution_count": 1,
   "id": "524170e2",
   "metadata": {},
   "outputs": [
    {
     "name": "stdout",
     "output_type": "stream",
     "text": [
      "Day, mice. \"Year\" is a mistake!\n",
      "Gdb, qmgi. \"Ciev\" ku b tpzahrl!\n"
     ]
    }
   ],
   "source": [
    "text = input()\n",
    "text = text.replace(' ', ' | ')\n",
    "list_upper = 'ABCDEFGHIJKLMNOPQRSTUVWXYZABCDEFGHIJKLMNOPQRSTUVWXYZ'\n",
    "list_lower = 'abcdefghijklmnopqrstuvwxyzabcdefghijklmnopqrstuvwxyz'\n",
    "text = text.split()\n",
    "help_list = []\n",
    "finish_list = []\n",
    "return_list = []\n",
    "\n",
    "for item in text:\n",
    "    for item2 in item:\n",
    "        help_list.append(item2)\n",
    "\n",
    "for item in text:\n",
    "    item = item.replace(',', '').replace('.', '').replace('\"', '').replace('!', '')\n",
    "    for item2 in item:\n",
    "        if (item2 in list_upper) and (item2.isalpha() == True):\n",
    "            index_letter = list_upper.index(item2)\n",
    "            finish_list.append(list_upper[index_letter + len(item)])\n",
    "        elif (item2 in list_lower) and (item2.isalpha() == True):\n",
    "            index_letter = list_lower.index(item2)\n",
    "            finish_list.append(list_lower[index_letter + len(item)])\n",
    "\n",
    "counter = 0\n",
    "counter_i = 0\n",
    "for item in help_list:\n",
    "    if item.isalpha() == True:\n",
    "        return_list.append(finish_list[counter])\n",
    "        counter += 1\n",
    "    elif item == '\"' and counter_i == 0:\n",
    "        return_list.append(item)\n",
    "        counter_i += 1\n",
    "    elif item == '|':\n",
    "        return_list.append(item)\n",
    "    else:\n",
    "        return_list.append(item)\n",
    "        return_list.append('')\n",
    "print(''.join(return_list).replace('|', ' '))"
   ]
  }
 ],
 "metadata": {
  "kernelspec": {
   "display_name": "Python 3 (ipykernel)",
   "language": "python",
   "name": "python3"
  },
  "language_info": {
   "codemirror_mode": {
    "name": "ipython",
    "version": 3
   },
   "file_extension": ".py",
   "mimetype": "text/x-python",
   "name": "python",
   "nbconvert_exporter": "python",
   "pygments_lexer": "ipython3",
   "version": "3.10.4"
  }
 },
 "nbformat": 4,
 "nbformat_minor": 5
}
