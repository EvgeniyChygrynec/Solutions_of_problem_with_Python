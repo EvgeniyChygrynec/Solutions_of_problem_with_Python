{
 "cells": [
  {
   "cell_type": "markdown",
   "id": "981627d1",
   "metadata": {},
   "source": [
    "<h3 align='center'>Магічні дати</h3>"
   ]
  },
  {
   "cell_type": "markdown",
   "id": "437b2cf2",
   "metadata": {},
   "source": [
    "Магічна дата – це дата, коли день, помножений на місяць, дорівнює утвореному останніми двома цифрами року.\n",
    "\n",
    "Напишіть функцію, is_magic(date) яка приймає як аргумент рядкове подання коректної дати і повертає значення <b>True</b> якщо дата є магічною та <b>False</b> в іншому випадку."
   ]
  },
  {
   "cell_type": "markdown",
   "id": "223d1e94",
   "metadata": {},
   "source": [
    "<b>Примітка.</b> Наступний програмний код:"
   ]
  },
  {
   "cell_type": "code",
   "execution_count": null,
   "id": "63939c5d",
   "metadata": {},
   "outputs": [],
   "source": [
    "print(is_magic('10.06.1960'))\n",
    "print(is_magic('11.06.1960'))"
   ]
  },
  {
   "cell_type": "markdown",
   "id": "9f3cc30f",
   "metadata": {},
   "source": [
    "повинен виводити:"
   ]
  },
  {
   "cell_type": "code",
   "execution_count": null,
   "id": "04583456",
   "metadata": {},
   "outputs": [],
   "source": [
    "True\n",
    "False"
   ]
  },
  {
   "cell_type": "markdown",
   "id": "22d28e3b",
   "metadata": {},
   "source": [
    "<h3 align='center'>Код програми</h3>"
   ]
  },
  {
   "cell_type": "code",
   "execution_count": 2,
   "id": "4e2a354f",
   "metadata": {},
   "outputs": [
    {
     "name": "stdout",
     "output_type": "stream",
     "text": [
      "15.03.1945\n",
      "True\n"
     ]
    }
   ],
   "source": [
    "# оголошення функції\n",
    "def is_magic(date):\n",
    "    date = date.split('.')\n",
    "    if int(date[0])*int(date[1]) == int(date[2]) % 100:\n",
    "        a = True\n",
    "    else:\n",
    "        a = False\n",
    "    return a\n",
    "# зчитуємо дані\n",
    "date = input()\n",
    "\n",
    "# Викликаємо функцію\n",
    "print(is_magic(date))"
   ]
  }
 ],
 "metadata": {
  "kernelspec": {
   "display_name": "Python 3 (ipykernel)",
   "language": "python",
   "name": "python3"
  },
  "language_info": {
   "codemirror_mode": {
    "name": "ipython",
    "version": 3
   },
   "file_extension": ".py",
   "mimetype": "text/x-python",
   "name": "python",
   "nbconvert_exporter": "python",
   "pygments_lexer": "ipython3",
   "version": "3.10.4"
  }
 },
 "nbformat": 4,
 "nbformat_minor": 5
}
