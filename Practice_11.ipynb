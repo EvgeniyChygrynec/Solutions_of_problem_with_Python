{
 "cells": [
  {
   "cell_type": "markdown",
   "id": "b9195cd5",
   "metadata": {},
   "source": [
    "<h3 align='center'> Книги для прочитання </h3<"
   ]
  },
  {
   "cell_type": "markdown",
   "id": "4a3c7be8",
   "metadata": {},
   "source": [
    "Руслан отримав наприкінці навчального року список літератури на літо. Тепер йому треба з'ясувати, які книги з цього списку має. У Руслана на комп'ютері в текстовому файлі записані всі книги з його домашньої бібліотеки випадково.\n",
    "\n",
    "Напишіть програму, яка визначає для кожної книги зі списку на прочитання, є вона у Руслана чи ні.\n",
    "\n",
    "<b>Формат вхідних даних</b><br>\n",
    "На вхід до програми в першому рядку подається натуральне число m — кількість книг у домашній бібліотеці Руслана. У другому рядку записано натуральне число n – кількість книг у списку на літо. Далі йдуть m рядків із назвами книг із домашньої бібліотеки та n рядків назв зі списку на літо.\n",
    "\n",
    "<b>Формат вихідних даних</b><br>\n",
    "Програма повинна вивести n рядків, у кожному з яких написано слово YES, якщо книга знайдена в бібліотеці, і NO, якщо ні."
   ]
  },
  {
   "cell_type": "markdown",
   "id": "0880397f",
   "metadata": {},
   "source": [
    "<b>Sample Input:</b><br>\n",
    "4<br>\n",
    "4<br>\n",
    "Хобіт<br>\n",
    "Аліса в країні чудес<br>\n",
    "Том Сойєр<br>\n",
    "Острів скарбів<br>\n",
    "Буратіно<br>\n",
    "Хобіт<br>\n",
    "Острів скарбів<br>\n",
    "Війна та мир<br>\n",
    "\n",
    "<b>Sample Output:</b><br>\n",
    "NO<br>\n",
    "YES<br>\n",
    "YES<br>\n",
    "NO\n"
   ]
  },
  {
   "cell_type": "markdown",
   "id": "9cb2ccfe",
   "metadata": {},
   "source": [
    "<h3 align='center'>Код програми</h3>"
   ]
  },
  {
   "cell_type": "code",
   "execution_count": 1,
   "id": "69dbf2c0",
   "metadata": {},
   "outputs": [
    {
     "name": "stdout",
     "output_type": "stream",
     "text": [
      "4\n",
      "4\n",
      "Хобіт\n",
      "Аліса в країні чудес\n",
      "Том Сойєр\n",
      "Острів скарбів\n",
      "Буратіно\n",
      "Хобіт\n",
      "Острів скарбів\n",
      "Війна та мир\n",
      "NO\n",
      "YES\n",
      "YES\n",
      "NO\n"
     ]
    }
   ],
   "source": [
    "m, n = int(input()), int(input())\n",
    "list_m = [input() for i in range(m)]\n",
    "list_n = [input() for i in range(n)]\n",
    "for i in range(n):\n",
    "    if list_n[i] in list_m:\n",
    "        print('YES')\n",
    "    else:\n",
    "        print('NO')"
   ]
  }
 ],
 "metadata": {
  "kernelspec": {
   "display_name": "Python 3 (ipykernel)",
   "language": "python",
   "name": "python3"
  },
  "language_info": {
   "codemirror_mode": {
    "name": "ipython",
    "version": 3
   },
   "file_extension": ".py",
   "mimetype": "text/x-python",
   "name": "python",
   "nbconvert_exporter": "python",
   "pygments_lexer": "ipython3",
   "version": "3.10.4"
  }
 },
 "nbformat": 4,
 "nbformat_minor": 5
}
