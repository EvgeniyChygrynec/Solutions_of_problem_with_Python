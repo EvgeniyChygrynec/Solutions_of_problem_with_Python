{
 "cells": [
  {
   "cell_type": "markdown",
   "id": "47229ccf",
   "metadata": {},
   "source": [
    "<h3 align='center'>Упаковка дублікатів 🌶️</h3>"
   ]
  },
  {
   "cell_type": "markdown",
   "id": "3187614e",
   "metadata": {},
   "source": [
    "На вхід до програми подається рядок тексту, що містить символи. Напишіть програму, яка пакує послідовності однакових символів заданого рядка в підсписки.\n",
    "\n",
    "<b>Формат вхідних даних</b><br>\n",
    "На вхід до програми подається рядок тексту, що містить символи, відокремлені символом пропуску.\n",
    "\n",
    "<b>Формат вихідних даних</b><br>\n",
    "Програма має вивести вказаний список."
   ]
  },
  {
   "cell_type": "markdown",
   "id": "f07da146",
   "metadata": {},
   "source": [
    "<b>Sample Input 1:</b><br>\n",
    "a b c d\n",
    "\n",
    "<b>Sample Output 1:</b><br>\n",
    "[['a'], ['b'], ['c'], ['d']]<br><br>\n",
    "\n",
    "<b>Sample Input 2:</b><br>\n",
    "w w w o r l d g g g g r e a t t e c c h e m g g p w w\n",
    "\n",
    "<b>Sample Output 2:</b><br>\n",
    "[['w', 'w', 'w'], ['o'], ['r'], ['l'], ['d'], ['g', 'g', 'g', 'g'], ['r'], ['e'], ['a'], ['t', 't'], ['e'], ['c', 'c'], ['h'], ['e'], ['m'], ['g', 'g'], ['p'], ['w', 'w']]"
   ]
  },
  {
   "cell_type": "markdown",
   "id": "93c65393",
   "metadata": {},
   "source": [
    "<h3 align='center'>Код програми</h3>"
   ]
  },
  {
   "cell_type": "code",
   "execution_count": 1,
   "id": "c64e1f96",
   "metadata": {},
   "outputs": [
    {
     "name": "stdout",
     "output_type": "stream",
     "text": [
      "w w w o r l d g g g g r e a t t e c c h e m g g p w w\n",
      "[['w', 'w', 'w'], ['o'], ['r'], ['l'], ['d'], ['g', 'g', 'g', 'g'], ['r'], ['e'], ['a'], ['t', 't'], ['e'], ['c', 'c'], ['h'], ['e'], ['m'], ['g', 'g'], ['p'], ['w', 'w']]\n"
     ]
    }
   ],
   "source": [
    "char_list = []\n",
    "a = []\n",
    "for char in input().split():\n",
    "    if a == []:\n",
    "        a.append(char)\n",
    "    else:\n",
    "        if a[-1] == char:\n",
    "            a.append(char)\n",
    "        else:\n",
    "            char_list.append(a)\n",
    "            a = []\n",
    "            a.append(char)\n",
    "if a != []:\n",
    "    char_list.append(a)\n",
    "print(char_list)"
   ]
  }
 ],
 "metadata": {
  "kernelspec": {
   "display_name": "Python 3 (ipykernel)",
   "language": "python",
   "name": "python3"
  },
  "language_info": {
   "codemirror_mode": {
    "name": "ipython",
    "version": 3
   },
   "file_extension": ".py",
   "mimetype": "text/x-python",
   "name": "python",
   "nbconvert_exporter": "python",
   "pygments_lexer": "ipython3",
   "version": "3.10.4"
  }
 },
 "nbformat": 4,
 "nbformat_minor": 5
}
